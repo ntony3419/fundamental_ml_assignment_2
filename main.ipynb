{
 "cells": [
  {
   "cell_type": "code",
   "execution_count": 31,
   "metadata": {},
   "outputs": [],
   "source": [
    "## import library\n",
    "\n",
    "import torch"
   ]
  },
  {
   "cell_type": "code",
   "execution_count": 32,
   "metadata": {},
   "outputs": [],
   "source": [
    "# initial device for training\n",
    "device = torch.device(\"cuda\" if torch.cuda.is_available() else \"cpu\") # use cpu or gpu for training\n"
   ]
  },
  {
   "cell_type": "code",
   "execution_count": 33,
   "metadata": {},
   "outputs": [],
   "source": [
    "# create custom cifar class for the dataset directory\n",
    "import pandas as pd\n",
    "from torch.utils.data import Dataset\n",
    "import os\n",
    "from torchvision.io import read_image\n",
    "from torch import tensor\n",
    "class CIFARDataset(Dataset):\n",
    "    def __init__(self, img_dir, labels_file=None, transform=None):\n",
    "        self.img_dir = img_dir\n",
    "        self.transform = transform\n",
    "        self.labels = None\n",
    "        \n",
    "        if labels_file:\n",
    "            labels_df = pd.read_csv(labels_file)\n",
    "            unique_labels = labels_df[\"label\"].unique()\n",
    "            self.label_mapping = {label: idx for idx, label in enumerate(unique_labels)}\n",
    "            self.file_paths = [os.path.join(img_dir, f\"{img_id}.png\") for img_id in labels_df[\"id\"]]\n",
    "            self.labels = [self.label_mapping[label] for label in labels_df[\"label\"]]\n",
    "        else:\n",
    "            self.file_paths = sorted([os.path.join(img_dir, fname) for fname in os.listdir(img_dir)])\n",
    "\n",
    "    def __len__(self):\n",
    "        return len(self.file_paths)\n",
    "\n",
    "    def __getitem__(self, idx):\n",
    "        img_path = self.file_paths[idx]\n",
    "        image = read_image(img_path).float() / 255.0  #normalize to [0, 1]\n",
    "        if self.transform:\n",
    "            image = self.transform(image)\n",
    "\n",
    "        if self.labels is not None:\n",
    "            label = tensor(self.labels[idx])\n",
    "            return image, label\n",
    "        return image"
   ]
  },
  {
   "cell_type": "code",
   "execution_count": 34,
   "metadata": {},
   "outputs": [],
   "source": [
    "# transform data\n",
    "import torchvision.transforms as transforms\n",
    "transform_train = transforms.Compose([\n",
    "    transforms.RandomHorizontalFlip(),\n",
    "    transforms.RandomCrop(32, padding=4),\n",
    "    transforms.Normalize((0.5, 0.5, 0.5), (0.5, 0.5, 0.5)),\n",
    "])\n",
    "\n",
    "transform_test = transforms.Compose([\n",
    "    transforms.Normalize((0.5, 0.5, 0.5), (0.5, 0.5, 0.5)),\n",
    "])\n"
   ]
  },
  {
   "cell_type": "code",
   "execution_count": 35,
   "metadata": {},
   "outputs": [],
   "source": [
    "# load dataset\n",
    "from torch.utils.data import DataLoader, random_split\n",
    "train_data = CIFARDataset(img_dir=\"cifar-10/train\", labels_file=\"cifar-10/trainLabels.csv\", transform=transform_train)\n",
    "test_data = CIFARDataset(img_dir=\"cifar-10/test\", transform=transform_test)\n",
    "\n",
    "# split train data into traiung and validating set\n",
    "train_size = int(0.8 * len(train_data))\n",
    "val_size = len(train_data) - train_size\n",
    "train_data, val_data = random_split(train_data, [train_size, val_size])\n",
    "\n",
    "trainloader = DataLoader(train_data, batch_size=128, shuffle=True, num_workers=2)\n",
    "valloader = DataLoader(val_data, batch_size=128, shuffle=False, num_workers=2)\n",
    "testloader = DataLoader(test_data, batch_size=128, shuffle=False, num_workers=2)\n"
   ]
  },
  {
   "cell_type": "code",
   "execution_count": 36,
   "metadata": {},
   "outputs": [
    {
     "name": "stdout",
     "output_type": "stream",
     "text": [
      "training model resnet18\n"
     ]
    },
    {
     "name": "stderr",
     "output_type": "stream",
     "text": [
      "/home/kubuntu/Desktop/repos/fundamental_ml/fundamental_ml_assignment_2/env/lib/python3.12/site-packages/torchvision/models/_utils.py:208: UserWarning: The parameter 'pretrained' is deprecated since 0.13 and may be removed in the future, please use 'weights' instead.\n",
      "  warnings.warn(\n",
      "/home/kubuntu/Desktop/repos/fundamental_ml/fundamental_ml_assignment_2/env/lib/python3.12/site-packages/torchvision/models/_utils.py:223: UserWarning: Arguments other than a weight enum or `None` for 'weights' are deprecated since 0.13 and may be removed in the future. The current behavior is equivalent to passing `weights=None`.\n",
      "  warnings.warn(msg)\n"
     ]
    },
    {
     "data": {
      "text/plain": [
       "ResNet(\n",
       "  (conv1): Conv2d(3, 64, kernel_size=(7, 7), stride=(2, 2), padding=(3, 3), bias=False)\n",
       "  (bn1): BatchNorm2d(64, eps=1e-05, momentum=0.1, affine=True, track_running_stats=True)\n",
       "  (relu): ReLU(inplace=True)\n",
       "  (maxpool): MaxPool2d(kernel_size=3, stride=2, padding=1, dilation=1, ceil_mode=False)\n",
       "  (layer1): Sequential(\n",
       "    (0): BasicBlock(\n",
       "      (conv1): Conv2d(64, 64, kernel_size=(3, 3), stride=(1, 1), padding=(1, 1), bias=False)\n",
       "      (bn1): BatchNorm2d(64, eps=1e-05, momentum=0.1, affine=True, track_running_stats=True)\n",
       "      (relu): ReLU(inplace=True)\n",
       "      (conv2): Conv2d(64, 64, kernel_size=(3, 3), stride=(1, 1), padding=(1, 1), bias=False)\n",
       "      (bn2): BatchNorm2d(64, eps=1e-05, momentum=0.1, affine=True, track_running_stats=True)\n",
       "    )\n",
       "    (1): BasicBlock(\n",
       "      (conv1): Conv2d(64, 64, kernel_size=(3, 3), stride=(1, 1), padding=(1, 1), bias=False)\n",
       "      (bn1): BatchNorm2d(64, eps=1e-05, momentum=0.1, affine=True, track_running_stats=True)\n",
       "      (relu): ReLU(inplace=True)\n",
       "      (conv2): Conv2d(64, 64, kernel_size=(3, 3), stride=(1, 1), padding=(1, 1), bias=False)\n",
       "      (bn2): BatchNorm2d(64, eps=1e-05, momentum=0.1, affine=True, track_running_stats=True)\n",
       "    )\n",
       "  )\n",
       "  (layer2): Sequential(\n",
       "    (0): BasicBlock(\n",
       "      (conv1): Conv2d(64, 128, kernel_size=(3, 3), stride=(2, 2), padding=(1, 1), bias=False)\n",
       "      (bn1): BatchNorm2d(128, eps=1e-05, momentum=0.1, affine=True, track_running_stats=True)\n",
       "      (relu): ReLU(inplace=True)\n",
       "      (conv2): Conv2d(128, 128, kernel_size=(3, 3), stride=(1, 1), padding=(1, 1), bias=False)\n",
       "      (bn2): BatchNorm2d(128, eps=1e-05, momentum=0.1, affine=True, track_running_stats=True)\n",
       "      (downsample): Sequential(\n",
       "        (0): Conv2d(64, 128, kernel_size=(1, 1), stride=(2, 2), bias=False)\n",
       "        (1): BatchNorm2d(128, eps=1e-05, momentum=0.1, affine=True, track_running_stats=True)\n",
       "      )\n",
       "    )\n",
       "    (1): BasicBlock(\n",
       "      (conv1): Conv2d(128, 128, kernel_size=(3, 3), stride=(1, 1), padding=(1, 1), bias=False)\n",
       "      (bn1): BatchNorm2d(128, eps=1e-05, momentum=0.1, affine=True, track_running_stats=True)\n",
       "      (relu): ReLU(inplace=True)\n",
       "      (conv2): Conv2d(128, 128, kernel_size=(3, 3), stride=(1, 1), padding=(1, 1), bias=False)\n",
       "      (bn2): BatchNorm2d(128, eps=1e-05, momentum=0.1, affine=True, track_running_stats=True)\n",
       "    )\n",
       "  )\n",
       "  (layer3): Sequential(\n",
       "    (0): BasicBlock(\n",
       "      (conv1): Conv2d(128, 256, kernel_size=(3, 3), stride=(2, 2), padding=(1, 1), bias=False)\n",
       "      (bn1): BatchNorm2d(256, eps=1e-05, momentum=0.1, affine=True, track_running_stats=True)\n",
       "      (relu): ReLU(inplace=True)\n",
       "      (conv2): Conv2d(256, 256, kernel_size=(3, 3), stride=(1, 1), padding=(1, 1), bias=False)\n",
       "      (bn2): BatchNorm2d(256, eps=1e-05, momentum=0.1, affine=True, track_running_stats=True)\n",
       "      (downsample): Sequential(\n",
       "        (0): Conv2d(128, 256, kernel_size=(1, 1), stride=(2, 2), bias=False)\n",
       "        (1): BatchNorm2d(256, eps=1e-05, momentum=0.1, affine=True, track_running_stats=True)\n",
       "      )\n",
       "    )\n",
       "    (1): BasicBlock(\n",
       "      (conv1): Conv2d(256, 256, kernel_size=(3, 3), stride=(1, 1), padding=(1, 1), bias=False)\n",
       "      (bn1): BatchNorm2d(256, eps=1e-05, momentum=0.1, affine=True, track_running_stats=True)\n",
       "      (relu): ReLU(inplace=True)\n",
       "      (conv2): Conv2d(256, 256, kernel_size=(3, 3), stride=(1, 1), padding=(1, 1), bias=False)\n",
       "      (bn2): BatchNorm2d(256, eps=1e-05, momentum=0.1, affine=True, track_running_stats=True)\n",
       "    )\n",
       "  )\n",
       "  (layer4): Sequential(\n",
       "    (0): BasicBlock(\n",
       "      (conv1): Conv2d(256, 512, kernel_size=(3, 3), stride=(2, 2), padding=(1, 1), bias=False)\n",
       "      (bn1): BatchNorm2d(512, eps=1e-05, momentum=0.1, affine=True, track_running_stats=True)\n",
       "      (relu): ReLU(inplace=True)\n",
       "      (conv2): Conv2d(512, 512, kernel_size=(3, 3), stride=(1, 1), padding=(1, 1), bias=False)\n",
       "      (bn2): BatchNorm2d(512, eps=1e-05, momentum=0.1, affine=True, track_running_stats=True)\n",
       "      (downsample): Sequential(\n",
       "        (0): Conv2d(256, 512, kernel_size=(1, 1), stride=(2, 2), bias=False)\n",
       "        (1): BatchNorm2d(512, eps=1e-05, momentum=0.1, affine=True, track_running_stats=True)\n",
       "      )\n",
       "    )\n",
       "    (1): BasicBlock(\n",
       "      (conv1): Conv2d(512, 512, kernel_size=(3, 3), stride=(1, 1), padding=(1, 1), bias=False)\n",
       "      (bn1): BatchNorm2d(512, eps=1e-05, momentum=0.1, affine=True, track_running_stats=True)\n",
       "      (relu): ReLU(inplace=True)\n",
       "      (conv2): Conv2d(512, 512, kernel_size=(3, 3), stride=(1, 1), padding=(1, 1), bias=False)\n",
       "      (bn2): BatchNorm2d(512, eps=1e-05, momentum=0.1, affine=True, track_running_stats=True)\n",
       "    )\n",
       "  )\n",
       "  (avgpool): AdaptiveAvgPool2d(output_size=(1, 1))\n",
       "  (fc): Linear(in_features=512, out_features=10, bias=True)\n",
       ")"
      ]
     },
     "execution_count": 36,
     "metadata": {},
     "output_type": "execute_result"
    }
   ],
   "source": [
    "# initialize the models\n",
    "import torchvision.models as models\n",
    "import torch.nn as nn\n",
    "import torch.optim as optim\n",
    "model_name = 'resnet18'\n",
    "\n",
    "print(f\"training model {model_name}\")\n",
    "# select the model resnet18\n",
    "model = models.resnet18(pretrained = False)\n",
    "model.fc = nn.Linear(512,10) # configuration for resnet18 model\n",
    "model.to(device)\n",
    "\n"
   ]
  },
  {
   "cell_type": "code",
   "execution_count": 37,
   "metadata": {},
   "outputs": [
    {
     "name": "stdout",
     "output_type": "stream",
     "text": [
      "Epoch 1/10, Loss: 1.5984, Acc: 41.49%, Val Loss: 0.0505, Val Acc: 45.33%\n",
      "Epoch 2/10, Loss: 1.2595, Acc: 54.92%, Val Loss: 0.0409, Val Acc: 56.97%\n",
      "Epoch 3/10, Loss: 1.0921, Acc: 60.81%, Val Loss: 0.0350, Val Acc: 63.34%\n",
      "Epoch 4/10, Loss: 0.9844, Acc: 65.05%, Val Loss: 0.0329, Val Acc: 65.41%\n",
      "Epoch 5/10, Loss: 0.9049, Acc: 68.02%, Val Loss: 0.0316, Val Acc: 66.90%\n",
      "Epoch 6/10, Loss: 0.8520, Acc: 70.01%, Val Loss: 0.0289, Val Acc: 69.29%\n",
      "Epoch 7/10, Loss: 0.7939, Acc: 72.36%, Val Loss: 0.0270, Val Acc: 71.94%\n",
      "Epoch 8/10, Loss: 0.7530, Acc: 73.71%, Val Loss: 0.0276, Val Acc: 71.29%\n",
      "Epoch 9/10, Loss: 0.7217, Acc: 74.87%, Val Loss: 0.0276, Val Acc: 70.81%\n",
      "Epoch 10/10, Loss: 0.6851, Acc: 76.02%, Val Loss: 0.0273, Val Acc: 71.40%\n"
     ]
    }
   ],
   "source": [
    "# train model \n",
    "def validate_model(model, criterion, valloader):\n",
    "    model.eval()\n",
    "    val_loss, correct, total = 0.0, 0, 0\n",
    "    \n",
    "    with torch.no_grad():\n",
    "        for inputs, labels in valloader:\n",
    "            inputs, labels = inputs.to(device), labels.to(device)\n",
    "            outputs = model(inputs)\n",
    "            loss = criterion(outputs, labels)\n",
    "\n",
    "            val_loss += loss.item()\n",
    "            _, predicted = outputs.max(1)\n",
    "            total += labels.size(0)\n",
    "            correct += predicted.eq(labels).sum().item()\n",
    "            \n",
    "    val_loss = val_loss / len(testloader) if total >0 else None\n",
    "    val_acc = 100. * correct / total if total > 0 else None\n",
    "    return val_loss, val_acc\n",
    "\n",
    "def train_model ( model, criterion, optimizer, num_epochs = 10):\n",
    "    # function to train t he model\n",
    "    train_loss, val_loss = [], []\n",
    "    train_acc, val_acc = [], []\n",
    "    \n",
    "    for epoch in range(num_epochs):\n",
    "        model.train()\n",
    "        running_loss, correct, total = 0.0, 0, 0\n",
    "\n",
    "        for inputs, labels in trainloader:\n",
    "            inputs, labels = inputs.to(device), labels.to(device)\n",
    "            optimizer.zero_grad()\n",
    "            outputs = model(inputs)\n",
    "            loss = criterion(outputs, labels)\n",
    "            loss.backward()\n",
    "            optimizer.step()\n",
    "\n",
    "            running_loss += loss.item()\n",
    "            _, predicted = outputs.max(1)\n",
    "            total += labels.size(0)\n",
    "            correct += predicted.eq(labels).sum().item()\n",
    "\n",
    "        train_loss.append(running_loss / len(trainloader))\n",
    "        train_acc.append(100. * correct / total)\n",
    "\n",
    "        val_loss_epoch, val_acc_epoch = validate_model(model, criterion, valloader)\n",
    "        val_loss.append(val_loss_epoch)\n",
    "        val_acc.append(val_acc_epoch)\n",
    "        # Adjust print to handle None values for validation loss and accuracy\n",
    "        val_loss_str = f\"{val_loss[-1]:.4f}\" if val_loss[-1] is not None else \"N/A\"\n",
    "        val_acc_str = f\"{val_acc[-1]:.2f}%\" if val_acc[-1] is not None else \"N/A\"\n",
    "        print(f'Epoch {epoch+1}/{num_epochs}, Loss: {train_loss[-1]:.4f}, Acc: {train_acc[-1]:.2f}%, '\n",
    "              f'Val Loss: {val_loss_str}, Val Acc: {val_acc_str}')\n",
    "\n",
    "\n",
    "    return train_loss, train_acc, val_loss, val_acc\n",
    "\n",
    "results = {}\n",
    "criterion = nn.CrossEntropyLoss()\n",
    "optimizer = optim.Adam(model.parameters(), lr=0.001)\n",
    "train_loss, train_acc, val_loss, val_acc = train_model(model, criterion, optimizer, num_epochs=10)\n"
   ]
  },
  {
   "cell_type": "code",
   "execution_count": 38,
   "metadata": {},
   "outputs": [
    {
     "name": "stdout",
     "output_type": "stream",
     "text": [
      "{'resnet18': {'train_loss': [1.5983506901957356, 1.2595112822688044, 1.0921104613203592, 0.9844047490019388, 0.9048640752752749, 0.8520455670813782, 0.7938513321617541, 0.7530090629864044, 0.7217265993071059, 0.6850885511777652], 'train_acc': [41.49, 54.9175, 60.81, 65.045, 68.0225, 70.0125, 72.365, 73.7075, 74.87, 76.0175], 'val_loss': [0.050451485827921194, 0.040853631832087, 0.035045663880203366, 0.032868221097025044, 0.03164260569998022, 0.028872876291388943, 0.02697565821047122, 0.027643828846692226, 0.027605930769199396, 0.027335724351552567], 'val_acc': [45.33, 56.97, 63.34, 65.41, 66.9, 69.29, 71.94, 71.29, 70.81, 71.4]}}\n"
     ]
    }
   ],
   "source": [
    "# print the result \n",
    "results[model_name] = {\n",
    "    \"train_loss\": train_loss,\n",
    "    \"train_acc\": train_acc,\n",
    "    \"val_loss\": val_loss,\n",
    "    \"val_acc\": val_acc\n",
    "}\n",
    "print(results)"
   ]
  },
  {
   "cell_type": "code",
   "execution_count": 39,
   "metadata": {},
   "outputs": [
    {
     "data": {
      "image/png": "[encoded data removed]",
      "text/plain": [
       "<Figure size 640x480 with 1 Axes>"
      ]
     },
     "metadata": {},
     "output_type": "display_data"
    },
    {
     "data": {
      "image/png": "[encoded data removed]",
      "text/plain": [
       "<Figure size 640x480 with 1 Axes>"
      ]
     },
     "metadata": {},
     "output_type": "display_data"
    }
   ],
   "source": [
    "# plot the metric\n",
    "import matplotlib.pyplot as plt\n",
    "def plot_metrics(train_metrics, val_metrics, metric_name):\n",
    "    plt.plot(train_metrics, label=f'Training {metric_name}')\n",
    "    plt.plot(val_metrics, label=f'Validation {metric_name}')\n",
    "    plt.xlabel('Epoch')\n",
    "    plt.ylabel(metric_name)\n",
    "    plt.legend()\n",
    "    plt.title(f'{metric_name} over Epochs')\n",
    "    plt.show()\n",
    "plot_metrics(train_loss, val_loss, 'Loss')\n",
    "plot_metrics(train_acc, val_acc, 'Accuracy')"
   ]
  },
  {
   "cell_type": "code",
   "execution_count": 40,
   "metadata": {},
   "outputs": [
    {
     "name": "stdout",
     "output_type": "stream",
     "text": [
      "\n",
      "resnet18 final validation accuracy: 71.40%\n"
     ]
    }
   ],
   "source": [
    "# test accuracy\n",
    "for model_name, metrics in results.items():\n",
    "    if metrics['val_acc'][-1] is not None:\n",
    "        print(f\"\\n{model_name} final validation accuracy: {metrics['val_acc'][-1]:.2f}%\")\n",
    "    else:\n",
    "        print(f\"\\n{model_name} final validation accuracy: N/A (no labels in validation set)\")"
   ]
  },
  {
   "cell_type": "markdown",
   "metadata": {},
   "source": [
    "implement AlexNet and mobilenet for comparation"
   ]
  },
  {
   "cell_type": "code",
   "execution_count": 41,
   "metadata": {},
   "outputs": [
    {
     "name": "stderr",
     "output_type": "stream",
     "text": [
      "/home/kubuntu/Desktop/repos/fundamental_ml/fundamental_ml_assignment_2/env/lib/python3.12/site-packages/torchvision/models/_utils.py:208: UserWarning: The parameter 'pretrained' is deprecated since 0.13 and may be removed in the future, please use 'weights' instead.\n",
      "  warnings.warn(\n",
      "/home/kubuntu/Desktop/repos/fundamental_ml/fundamental_ml_assignment_2/env/lib/python3.12/site-packages/torchvision/models/_utils.py:223: UserWarning: Arguments other than a weight enum or `None` for 'weights' are deprecated since 0.13 and may be removed in the future. The current behavior is equivalent to passing `weights=AlexNet_Weights.IMAGENET1K_V1`. You can also use `weights=AlexNet_Weights.DEFAULT` to get the most up-to-date weights.\n",
      "  warnings.warn(msg)\n"
     ]
    },
    {
     "name": "stdout",
     "output_type": "stream",
     "text": [
      "Epoch 1/10, Loss: 1.8258, Acc: 30.91%, Val Loss: 0.0560, Val Acc: 38.59%\n",
      "Epoch 2/10, Loss: 1.5938, Acc: 41.29%, Val Loss: 0.0502, Val Acc: 44.11%\n",
      "Epoch 3/10, Loss: 1.4712, Acc: 47.39%, Val Loss: 0.0457, Val Acc: 51.76%\n",
      "Epoch 4/10, Loss: 1.3818, Acc: 50.94%, Val Loss: 0.0448, Val Acc: 51.42%\n",
      "Epoch 5/10, Loss: 1.3123, Acc: 53.43%, Val Loss: 0.0434, Val Acc: 54.29%\n",
      "Epoch 6/10, Loss: 1.2677, Acc: 55.77%, Val Loss: 0.0417, Val Acc: 55.28%\n",
      "Epoch 7/10, Loss: 1.2034, Acc: 57.76%, Val Loss: 0.0390, Val Acc: 59.46%\n",
      "Epoch 8/10, Loss: 1.1717, Acc: 59.41%, Val Loss: 0.0375, Val Acc: 60.43%\n",
      "Epoch 9/10, Loss: 1.1386, Acc: 60.66%, Val Loss: 0.0385, Val Acc: 60.14%\n",
      "Epoch 10/10, Loss: 1.1080, Acc: 61.63%, Val Loss: 0.0359, Val Acc: 62.27%\n"
     ]
    }
   ],
   "source": [
    "# alexNet \n",
    "# initialize the models\n",
    "import torchvision.models as models\n",
    "\n",
    "model_alex = models.alexnet(pretrained=True) # pretreain model\n",
    "model_alex.classifier[6] = nn.Linear(4096, 10)\n",
    "# use adaptiveavgpool to handle different input sizes\n",
    "model_alex.features[0] = nn.Conv2d(3, 64, kernel_size=11, stride=2, padding=2)\n",
    "model_alex.features[12] = nn.AdaptiveAvgPool2d((6, 6))\n",
    "model_alex=model_alex.to(device)\n",
    "criterion_alex = nn.CrossEntropyLoss()\n",
    "optimizer_alex = optim.Adam(model_alex.parameters(), lr=0.001)\n",
    "\n",
    "train_loss_alex, train_acc_alex, val_loss_alex, val_acc_alex = train_model(model_alex, criterion_alex, optimizer_alex, num_epochs=10)\n"
   ]
  },
  {
   "cell_type": "code",
   "execution_count": 42,
   "metadata": {},
   "outputs": [
    {
     "name": "stdout",
     "output_type": "stream",
     "text": [
      "{'train_loss': [1.8258346185897485, 1.5937580826183477, 1.471218006298565, 1.3817832820331708, 1.3122595910447092, 1.267744510699385, 1.2034343442977808, 1.171707805734092, 1.1386033997368128, 1.1079543714706128], 'train_acc': [30.915, 41.2925, 47.3875, 50.94, 53.43, 55.77, 57.76, 59.415, 60.6575, 61.635], 'val_loss': [0.05602876658936003, 0.05022515389597863, 0.04574250048439657, 0.0447700902463633, 0.04335658163239118, 0.041706648423199766, 0.039005332890224134, 0.03748740919519203, 0.03854548351349684, 0.03590703745445701], 'val_acc': [38.59, 44.11, 51.76, 51.42, 54.29, 55.28, 59.46, 60.43, 60.14, 62.27]}\n"
     ]
    }
   ],
   "source": [
    "# result of alexNet\n",
    "results_alex = {\n",
    "        \"train_loss\": train_loss_alex,\n",
    "        \"train_acc\": train_acc_alex,\n",
    "        \"val_loss\": val_loss_alex,\n",
    "        \"val_acc\": val_acc_alex\n",
    "    }\n",
    "print(results_alex)"
   ]
  },
  {
   "cell_type": "markdown",
   "metadata": {},
   "source": [
    "implement mobilenet\n"
   ]
  },
  {
   "cell_type": "code",
   "execution_count": 43,
   "metadata": {},
   "outputs": [],
   "source": [
    "# transfor the data to match input requirement for mobilenetv2\n",
    "transform_train_mobilenet = transforms.Compose([\n",
    "    transforms.Resize((224, 224)),  #resize CIFAR-10 images to 224x224\n",
    "    transforms.RandomHorizontalFlip(),\n",
    "    transforms.RandomCrop(224, padding=4),\n",
    "    transforms.ToTensor(),\n",
    "    transforms.Normalize((0.5, 0.5, 0.5), (0.5, 0.5, 0.5)),\n",
    "])\n",
    "\n",
    "transform_test_mobilenet = transforms.Compose([\n",
    "    transforms.Resize((224, 224)),\n",
    "    transforms.ToTensor(),\n",
    "    transforms.Normalize((0.5, 0.5, 0.5), (0.5, 0.5, 0.5)),\n",
    "])\n"
   ]
  },
  {
   "cell_type": "code",
   "execution_count": 44,
   "metadata": {},
   "outputs": [],
   "source": [
    "\n",
    "# load dataset\n",
    "train_data_mobilenet = CIFARDataset(img_dir=\"cifar-10/train\", labels_file=\"cifar-10/trainLabels.csv\", transform=transform_train_mobilenet)\n",
    "test_data_mobilenet = CIFARDataset(img_dir=\"cifar-10/test\", transform=transform_test_mobilenet)\n"
   ]
  },
  {
   "cell_type": "code",
   "execution_count": 45,
   "metadata": {},
   "outputs": [],
   "source": [
    "# splite data into train set and validate set \n",
    "train_size_mobilenet = int(0.8 * len(train_data_mobilenet))\n",
    "val_size_mobilenet = len(train_data_mobilenet) - train_size_mobilenet\n",
    "train_data_mobilenet, val_data_mobilenet = torch.utils.data.random_split(train_data_mobilenet, [train_size_mobilenet, val_size_mobilenet])"
   ]
  },
  {
   "cell_type": "code",
   "execution_count": 46,
   "metadata": {},
   "outputs": [],
   "source": [
    "\n",
    "trainloader_mobilenet = DataLoader(train_data_mobilenet, batch_size=128, shuffle=True, num_workers=2)\n",
    "valloader_mobilenet = DataLoader(val_data_mobilenet, batch_size=128, shuffle=False, num_workers=2)\n",
    "testloader_mobilenet = DataLoader(test_data_mobilenet, batch_size=128, shuffle=False, num_workers=2)"
   ]
  },
  {
   "cell_type": "code",
   "execution_count": 47,
   "metadata": {},
   "outputs": [
    {
     "name": "stderr",
     "output_type": "stream",
     "text": [
      "/home/kubuntu/Desktop/repos/fundamental_ml/fundamental_ml_assignment_2/env/lib/python3.12/site-packages/torchvision/models/_utils.py:208: UserWarning: The parameter 'pretrained' is deprecated since 0.13 and may be removed in the future, please use 'weights' instead.\n",
      "  warnings.warn(\n",
      "/home/kubuntu/Desktop/repos/fundamental_ml/fundamental_ml_assignment_2/env/lib/python3.12/site-packages/torchvision/models/_utils.py:223: UserWarning: Arguments other than a weight enum or `None` for 'weights' are deprecated since 0.13 and may be removed in the future. The current behavior is equivalent to passing `weights=MobileNet_V2_Weights.IMAGENET1K_V1`. You can also use `weights=MobileNet_V2_Weights.DEFAULT` to get the most up-to-date weights.\n",
      "  warnings.warn(msg)\n"
     ]
    }
   ],
   "source": [
    "# select mobilenet model\n",
    "model_mobilenet = models.mobilenet_v2(pretrained=True)\n",
    "model_mobilenet.classifier[1] = nn.Linear(model_mobilenet.last_channel, 10)"
   ]
  },
  {
   "cell_type": "code",
   "execution_count": 48,
   "metadata": {},
   "outputs": [],
   "source": [
    "model_mobilenet = model_mobilenet.to(device) # send model to device \n",
    "criterion_mobilenet = nn.CrossEntropyLoss()\n",
    "optimizer_mobilenet = optim.Adam(model_mobilenet.parameters(), lr=0.001)"
   ]
  },
  {
   "cell_type": "code",
   "execution_count": 49,
   "metadata": {},
   "outputs": [
    {
     "name": "stdout",
     "output_type": "stream",
     "text": [
      "Epoch 1/10, Loss: 1.0900, Acc: 61.95%, Val Loss: 0.0271, Val Acc: 72.06%\n",
      "Epoch 2/10, Loss: 0.7769, Acc: 73.55%, Val Loss: 0.0233, Val Acc: 76.59%\n",
      "Epoch 3/10, Loss: 0.7200, Acc: 75.58%, Val Loss: 0.0229, Val Acc: 76.11%\n",
      "Epoch 4/10, Loss: 0.6443, Acc: 77.89%, Val Loss: 0.0211, Val Acc: 77.87%\n",
      "Epoch 5/10, Loss: 0.5907, Acc: 79.75%, Val Loss: 0.0200, Val Acc: 79.29%\n",
      "Epoch 6/10, Loss: 0.5660, Acc: 80.51%, Val Loss: 0.0190, Val Acc: 80.96%\n",
      "Epoch 7/10, Loss: 0.5497, Acc: 81.15%, Val Loss: 0.0185, Val Acc: 80.90%\n",
      "Epoch 8/10, Loss: 0.5235, Acc: 82.14%, Val Loss: 0.0189, Val Acc: 81.06%\n",
      "Epoch 9/10, Loss: 0.5058, Acc: 82.66%, Val Loss: 0.0169, Val Acc: 82.32%\n",
      "Epoch 10/10, Loss: 0.4869, Acc: 83.43%, Val Loss: 0.0182, Val Acc: 81.24%\n"
     ]
    }
   ],
   "source": [
    "# train the model\n",
    "train_loss_mobilenet, train_acc_mobilenet, val_loss_mobilenet, val_acc_mobilenet = train_model(\n",
    "    model_mobilenet, criterion_mobilenet, optimizer_mobilenet, num_epochs=10\n",
    ")\n"
   ]
  },
  {
   "cell_type": "code",
   "execution_count": 50,
   "metadata": {},
   "outputs": [
    {
     "name": "stdout",
     "output_type": "stream",
     "text": [
      "mobilenet validation accuracy: 81.24%\n"
     ]
    }
   ],
   "source": [
    "print(f\"mobilenet validation accuracy: {val_acc_mobilenet[-1]:.2f}%\")"
   ]
  },
  {
   "cell_type": "markdown",
   "metadata": {},
   "source": []
  },
  {
   "cell_type": "code",
   "execution_count": null,
   "metadata": {},
   "outputs": [],
   "source": []
  }
 ],
 "metadata": {
  "kernelspec": {
   "display_name": "env",
   "language": "python",
   "name": "python3"
  },
  "language_info": {
   "codemirror_mode": {
    "name": "ipython",
    "version": 3
   },
   "file_extension": ".py",
   "mimetype": "text/x-python",
   "name": "python",
   "nbconvert_exporter": "python",
   "pygments_lexer": "ipython3",
   "version": "3.12.3"
  }
 },
 "nbformat": 4,
 "nbformat_minor": 2
}
